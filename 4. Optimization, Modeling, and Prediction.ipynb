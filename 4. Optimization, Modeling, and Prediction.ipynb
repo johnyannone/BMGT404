{
 "cells": [
  {
   "cell_type": "markdown",
   "id": "c830edb4-3151-4364-9c79-603ef1b5a049",
   "metadata": {},
   "source": [
    "# Optimization, Modeling, and Prediction"
   ]
  },
  {
   "cell_type": "markdown",
   "id": "f871d19a-eae7-4da5-bf66-ee98186350f5",
   "metadata": {},
   "source": [
    "The purpose of this notebook is to utilize concepts from both optimization modeling and machine learning to solve business problems with varying needs. The first deals with a non-profit UMD baking facility where the goal is to maximize total profit across two different kinds of cookies with varying baking requirements and constraints. Given the nature of the problem, we will use the linear programming method to perform the optimization. The optimization model will be accompanied by a well-formatted data visualization that conveys how the company will achieve a maximum profit. The second business problem involves a company called HireTheTerps that would like to predict how much the company will need to budget for future hires. We will train and test a linear regression machine learning model to predict and visualize example salaries."
   ]
  },
  {
   "cell_type": "markdown",
   "id": "75eff5fe-4efb-4325-92bb-4dfbbd645162",
   "metadata": {},
   "source": [
    "In order to perform the data analysis of the various scenarios we must import NumPy and Pandas as they provide a basis for many of the latter libraries. Matplotlib and Seaborn will be used for data visualization while the linprog() function will be imported from SciPy to perform the linear optimization. SQLite will be used to connect to the database file that provides example data for salaries. Lastly, Scikit-Learn will be used for the topics related to the training and testing of the linear regression model. "
   ]
  },
  {
   "cell_type": "code",
   "execution_count": 15,
   "id": "d24e052d-9142-48d0-9d05-2f66c653c9f6",
   "metadata": {},
   "outputs": [],
   "source": [
    "import numpy as np\n",
    "import pandas as pd\n",
    "import matplotlib.pyplot as plt\n",
    "import seaborn as sns\n",
    "from scipy.optimize import linprog\n",
    "import sqlite3\n",
    "from sklearn.linear_model import LinearRegression\n",
    "from sklearn.model_selection import train_test_split\n",
    "from sklearn import metrics"
   ]
  },
  {
   "cell_type": "markdown",
   "id": "4354e601-f012-40f0-bff6-625af2e5452e",
   "metadata": {},
   "source": [
    "## Part 1: Optimization"
   ]
  },
  {
   "cell_type": "markdown",
   "id": "05946c5c-4531-4fd0-963b-bf838f43ade4",
   "metadata": {},
   "source": [
    "The non-profit UMD baking facility makes both regular and low-sugar peanut butter cookies. Regular cookies yield a profit of \\\\$2.14 per cookie while low-sugar cookies yield a profit of \\\\$4.04. These two values represent the decision variables that are assigned to quantities that will be used in the objective function to maximize total profit. The next two elements of the optimization represent the constraints which are the equations of inequality that state the limitations of the problem. Regular cookies require 0.5 cups of peanut butter and 1.25 cups of maple syrup while low-sugar cookies require 1.05 cups of peanut butter and 0.125 cups of maple syrup. The additional constraints are the number of available ingrediants for baking which correspond to 10,000 cups of peanut butter and 4,000 cups of maple syrup. The linprog() function takes in the decision variables and constraints in the objective function to find the maximum profit result."
   ]
  },
  {
   "cell_type": "markdown",
   "id": "dd0948fe-e6bd-42d2-a68e-a9246f5fdbf5",
   "metadata": {},
   "source": [
    "### Optimization Model"
   ]
  },
  {
   "cell_type": "code",
   "execution_count": 16,
   "id": "e38b7e8b-f372-4664-a93b-8d136efd390d",
   "metadata": {},
   "outputs": [
    {
     "data": {
      "text/plain": [
       "     con: array([], dtype=float64)\n",
       "     fun: -38986.4\n",
       " message: 'Optimization terminated successfully.'\n",
       "     nit: 2\n",
       "   slack: array([0., 0.])\n",
       "  status: 0\n",
       " success: True\n",
       "       x: array([2360., 8400.])"
      ]
     },
     "execution_count": 16,
     "metadata": {},
     "output_type": "execute_result"
    }
   ],
   "source": [
    "coefficients = [-2.14, -4.04] # Represent the profit for each type of cookie\n",
    "inequality_constraint_matrix = [[0.5, 1.05], [1.25, 0.125]] # Required amount of ingrediants for each type of ingrediant for each cookie \n",
    "inequality_constraint_vector = [10000, 4000] # Maximum number of ingrediants for each ingrediant type\n",
    "result = linprog(coefficients, inequality_constraint_matrix, inequality_constraint_vector, method='simplex')\n",
    "result"
   ]
  },
  {
   "cell_type": "code",
   "execution_count": 17,
   "id": "02aa661b-805c-4caf-b794-2af626964640",
   "metadata": {},
   "outputs": [
    {
     "name": "stdout",
     "output_type": "stream",
     "text": [
      "The highest profit that can be achieved under the stated conditions is $38,986.40 when 2,360 regular cookies are sold and 8,400 low-sugar cookies are sold.\n"
     ]
    }
   ],
   "source": [
    "print(f'The highest profit that can be achieved under the stated conditions is ${abs(result.fun):,.2f} when {result.x[0]:,.0f} regular cookies are sold and {result.x[1]:,.0f} low-sugar cookies are sold.')"
   ]
  },
  {
   "cell_type": "markdown",
   "id": "5ee20dd4-7d6f-4714-bcb1-c56783a51e28",
   "metadata": {},
   "source": [
    "### Optimization Visualization"
   ]
  },
  {
   "cell_type": "code",
   "execution_count": 18,
   "id": "658b8e86-6ebf-4be2-9763-b448a3c4c4cc",
   "metadata": {},
   "outputs": [
    {
     "data": {
      "image/png": "[encoded data removed]",
      "text/plain": [
       "<Figure size 432x288 with 1 Axes>"
      ]
     },
     "metadata": {},
     "output_type": "display_data"
    }
   ],
   "source": [
    "# Format the visualization to display full scope of graph\n",
    "fig, ax = plt.subplots()\n",
    "plt.axis([0., 10000., 0., 10000.])\n",
    "ax.grid(True, which='both', color='g', linestyle=':')\n",
    "ax.spines['left'].set_position('zero')\n",
    "ax.spines['bottom'].set_position('zero')\n",
    "ax.spines['right'].set_color('none')\n",
    "ax.spines['top'].set_color('none')\n",
    "\n",
    "# Declare equations to plot values as a line graph\n",
    "x_vals = np.linspace(0,10000)\n",
    "y1 = (10000 - 0.5 * x_vals)/ 1.05  # From Formula 0.5x + 1.05y <= 10000, solve for y\n",
    "y2 = (4000 - 1.25 *x_vals)/ 0.125 # From Formula, 1.25x + 0.125y <= 4000, solve for y\n",
    "plt.plot(x_vals, y1, '-b', linewidth=1)\n",
    "plt.plot(x_vals, y2, '-b', linewidth=1)\n",
    "\n",
    "# Display text that shows the solution to the business problem\n",
    "plt.annotate(f'Maximum Profit ({result.x[0]:.0f}, {result.x[1]:.0f})',\n",
    "    xy=(result.x[0], result.x[1]),\n",
    "    xytext=(4000, 8400),\n",
    "    arrowprops={\"arrowstyle\":\"simple\", \"color\":'r'})\n",
    "plt.show()"
   ]
  },
  {
   "cell_type": "markdown",
   "id": "11cc20d2-9c5b-4c98-887e-23c0f7bdf011",
   "metadata": {},
   "source": [
    "## Part 2: Modeling and Prediction"
   ]
  },
  {
   "cell_type": "markdown",
   "id": "d66d4058-8f50-4dec-a761-5ff54e669ddd",
   "metadata": {},
   "source": [
    "HireTheTerps is a staffing company that hires UMD alumni and want to perform data analysis on a data set with salary data in order to predict how much the company will need to budget for some future hires. Given the data from the company's database, the goal is train a linear regression algorithm to make predictions for salaries using machine learning techniques."
   ]
  },
  {
   "cell_type": "markdown",
   "id": "32f0d0e0-3b7f-4ca7-a2bf-d5c9dccd2df5",
   "metadata": {},
   "source": [
    "### Database Connection"
   ]
  },
  {
   "cell_type": "markdown",
   "id": "094b02d8-8bc3-4e1c-b52a-67e1b505f6f3",
   "metadata": {},
   "source": [
    "A database file containing a SQL table with example salaries is provided by the company. We must extract and format the data into a Pandas Dataframe in order to use in the latter machine learning model."
   ]
  },
  {
   "cell_type": "code",
   "execution_count": 19,
   "id": "326bc9a8-b3e5-4680-85b1-59dad5f962b3",
   "metadata": {},
   "outputs": [],
   "source": [
    "# Connect to database file\n",
    "connection = sqlite3.connect('HW6-salary.db')"
   ]
  },
  {
   "cell_type": "code",
   "execution_count": 20,
   "id": "5b18e356-f0bf-4a08-9cab-8c0038fceb97",
   "metadata": {},
   "outputs": [
    {
     "data": {
      "text/html": [
       "<div>\n",
       "<style scoped>\n",
       "    .dataframe tbody tr th:only-of-type {\n",
       "        vertical-align: middle;\n",
       "    }\n",
       "\n",
       "    .dataframe tbody tr th {\n",
       "        vertical-align: top;\n",
       "    }\n",
       "\n",
       "    .dataframe thead th {\n",
       "        text-align: right;\n",
       "    }\n",
       "</style>\n",
       "<table border=\"1\" class=\"dataframe\">\n",
       "  <thead>\n",
       "    <tr style=\"text-align: right;\">\n",
       "      <th></th>\n",
       "      <th>Years of Experience</th>\n",
       "      <th>Salary</th>\n",
       "    </tr>\n",
       "    <tr>\n",
       "      <th>id</th>\n",
       "      <th></th>\n",
       "      <th></th>\n",
       "    </tr>\n",
       "  </thead>\n",
       "  <tbody>\n",
       "    <tr>\n",
       "      <th>1</th>\n",
       "      <td>1.1</td>\n",
       "      <td>39343.0</td>\n",
       "    </tr>\n",
       "    <tr>\n",
       "      <th>2</th>\n",
       "      <td>1.3</td>\n",
       "      <td>46205.0</td>\n",
       "    </tr>\n",
       "    <tr>\n",
       "      <th>3</th>\n",
       "      <td>1.5</td>\n",
       "      <td>37731.0</td>\n",
       "    </tr>\n",
       "    <tr>\n",
       "      <th>4</th>\n",
       "      <td>2.0</td>\n",
       "      <td>43525.0</td>\n",
       "    </tr>\n",
       "    <tr>\n",
       "      <th>5</th>\n",
       "      <td>2.2</td>\n",
       "      <td>39891.0</td>\n",
       "    </tr>\n",
       "    <tr>\n",
       "      <th>6</th>\n",
       "      <td>2.9</td>\n",
       "      <td>56642.0</td>\n",
       "    </tr>\n",
       "    <tr>\n",
       "      <th>7</th>\n",
       "      <td>3.0</td>\n",
       "      <td>60150.0</td>\n",
       "    </tr>\n",
       "    <tr>\n",
       "      <th>8</th>\n",
       "      <td>3.2</td>\n",
       "      <td>54445.0</td>\n",
       "    </tr>\n",
       "    <tr>\n",
       "      <th>9</th>\n",
       "      <td>3.2</td>\n",
       "      <td>64445.0</td>\n",
       "    </tr>\n",
       "    <tr>\n",
       "      <th>10</th>\n",
       "      <td>3.7</td>\n",
       "      <td>57189.0</td>\n",
       "    </tr>\n",
       "  </tbody>\n",
       "</table>\n",
       "</div>"
      ],
      "text/plain": [
       "    Years of Experience   Salary\n",
       "id                              \n",
       "1                   1.1  39343.0\n",
       "2                   1.3  46205.0\n",
       "3                   1.5  37731.0\n",
       "4                   2.0  43525.0\n",
       "5                   2.2  39891.0\n",
       "6                   2.9  56642.0\n",
       "7                   3.0  60150.0\n",
       "8                   3.2  54445.0\n",
       "9                   3.2  64445.0\n",
       "10                  3.7  57189.0"
      ]
     },
     "execution_count": 20,
     "metadata": {},
     "output_type": "execute_result"
    }
   ],
   "source": [
    "# Format into a dataframe to visualize data\n",
    "salary_df = pd.read_sql('SELECT * FROM salary', connection)\n",
    "salary_df.set_index('id', inplace=True)\n",
    "salary_df.columns = ['Years of Experience', 'Salary']\n",
    "salary_df['Salary'] = salary_df['Salary'].astype(float)\n",
    "salary_df.head(10)"
   ]
  },
  {
   "cell_type": "markdown",
   "id": "f854e94e-6a70-4a67-84d3-b4e739a5b3f4",
   "metadata": {},
   "source": [
    "### Setting Up and Training Machine Learning Model"
   ]
  },
  {
   "cell_type": "markdown",
   "id": "41bcbd8b-b20c-445a-97f9-44c1a13988c2",
   "metadata": {},
   "source": [
    "In order to make predictions about employees' salaries given the employees' years of experience, we must train a model that can explain the relationship between the two variables. We will first seperate the training data from the test data in order to allow the model to learn from the training data and use the test data to later test the accuracy."
   ]
  },
  {
   "cell_type": "code",
   "execution_count": 21,
   "id": "3ecdd402-a932-4882-93d7-80de3354987c",
   "metadata": {},
   "outputs": [
    {
     "name": "stdout",
     "output_type": "stream",
     "text": [
      "22 items -- 73.33333333333333\n",
      "8 items -- 26.666666666666668\n"
     ]
    }
   ],
   "source": [
    "# Split data into training and testing groups\n",
    "X_train, X_test, y_train, y_test = train_test_split(salary_df['Years of Experience'].values.reshape(-1, 1),\n",
    "    salary_df['Salary'].values, random_state=11)\n",
    "\n",
    "# Verify that 75% is training data and the other 25% is test data\n",
    "print(X_train.size, 'items --', X_train.size/(X_train.size + X_test.size) * 100)\n",
    "print(X_test.size, 'items --', X_test.size/(X_train.size + X_test.size) * 100)"
   ]
  },
  {
   "cell_type": "code",
   "execution_count": 22,
   "id": "cc73f9f0-79ed-4511-8c00-71cd8a398ed1",
   "metadata": {},
   "outputs": [
    {
     "data": {
      "text/plain": [
       "LinearRegression()"
      ]
     },
     "execution_count": 22,
     "metadata": {},
     "output_type": "execute_result"
    }
   ],
   "source": [
    "# Use linear regression estimator to predict salaries using training data\n",
    "salary_linear_regression = LinearRegression()\n",
    "salary_linear_regression.fit(X=X_train, y=y_train)"
   ]
  },
  {
   "cell_type": "markdown",
   "id": "30a6bf25-77e6-40db-99ba-8eb64394c911",
   "metadata": {},
   "source": [
    "### Model Visualization"
   ]
  },
  {
   "cell_type": "code",
   "execution_count": 23,
   "id": "bef98783-031c-46d7-bb93-deecdf6b3c76",
   "metadata": {},
   "outputs": [
    {
     "data": {
      "image/png": "[encoded data removed]",
      "text/plain": [
       "<Figure size 1080x360 with 1 Axes>"
      ]
     },
     "metadata": {},
     "output_type": "display_data"
    }
   ],
   "source": [
    "# Output to visualize the regression model from the \n",
    "sns.set_style('whitegrid')\n",
    "fig, axes = plt.subplots()\n",
    "fig.set_size_inches(15, 5)\n",
    "axes = sns.regplot(x=salary_df['Years of Experience'], y=salary_df['Salary'], scatter_kws={'color': 'purple'}, line_kws={'color': 'purple'})\n",
    "axes.set_xlim(0.5, 12)\n",
    "axes.set_title('Relationship Between Salary and Years of Experience');"
   ]
  },
  {
   "cell_type": "markdown",
   "id": "c5152696-f732-403a-9fdf-2959cd016944",
   "metadata": {},
   "source": [
    "When employees have more years of experience their salary increases. Therefore, there is a positive correlation between years of experience and salary and has a linear relationship."
   ]
  },
  {
   "cell_type": "markdown",
   "id": "4f6af2ee-accb-4ab9-88eb-9ce2ff4cb48b",
   "metadata": {},
   "source": [
    "### Testing Machine Learning Model"
   ]
  },
  {
   "cell_type": "markdown",
   "id": "e9002a08-01ab-4a6c-8865-2102e7ab1e8d",
   "metadata": {},
   "source": [
    "To test the accuracy of the model we will compare some of the predicted results with the actual results to get a better sense of the model's performance. We will then use the coefficient of determination to evaluate the statistical accuracy of the model."
   ]
  },
  {
   "cell_type": "code",
   "execution_count": 24,
   "id": "8385b026-2bf9-482a-b250-f49fdaebb765",
   "metadata": {},
   "outputs": [
    {
     "name": "stdout",
     "output_type": "stream",
     "text": [
      "Predicted: 72074.29, Expected: 67938.00\n",
      "Predicted: 54173.07, Expected: 60150.00\n",
      "Predicted: 44751.37, Expected: 43525.00\n",
      "Predicted: 68305.61, Expected: 61111.00\n"
     ]
    }
   ],
   "source": [
    "# Visualize some of the predicted results versus the expected results\n",
    "expected = y_test\n",
    "predicted = salary_linear_regression.predict(X_test)\n",
    "\n",
    "for p, e in zip(predicted[::2], expected[::2]):  # check every 2nd element\n",
    "    print('Predicted: %.2f, Expected: %.2f' % (p, e))"
   ]
  },
  {
   "cell_type": "code",
   "execution_count": 25,
   "id": "b3cca723-5c2d-4d13-a83f-b5a61c5623e4",
   "metadata": {},
   "outputs": [
    {
     "data": {
      "text/plain": [
       "0.9344058649705056"
      ]
     },
     "execution_count": 25,
     "metadata": {},
     "output_type": "execute_result"
    }
   ],
   "source": [
    "# Output of the model's accuracy\n",
    "metrics.r2_score(expected, predicted)"
   ]
  },
  {
   "cell_type": "markdown",
   "id": "14eca7fe-f230-4801-803a-58750b4c3baf",
   "metadata": {},
   "source": [
    "With an approximate accuracy of 93.44%, the model is very accurate and is well above what is considered to be a well-performing model. If the model was less accurate, then using a different estimator may provide a better result. Generally, machine learning experts consider models with 70% to 90% to be realistic and viable models. Obviously any scores above are even more ideal."
   ]
  },
  {
   "cell_type": "markdown",
   "id": "7e57da0f-2b3c-4e01-858d-dcaa3ac8a3d5",
   "metadata": {},
   "source": [
    "### Predicting Salaries"
   ]
  },
  {
   "cell_type": "markdown",
   "id": "4cc82cf3-c08d-43c2-90ff-b271bbf9c16b",
   "metadata": {},
   "source": [
    "HireTheTerps wants to hire seven senior employees with 12, 15, 17, 18, 21, 23, and 26 years of experience. In order to estimate what salary is most appropiate for each employee, we will make predictions using the linear regression algorithm above. We will use a dataframe to visualize the years of experience and predicted salaries."
   ]
  },
  {
   "cell_type": "code",
   "execution_count": 26,
   "id": "e2271aa8-97d7-49c5-b056-702047b782ba",
   "metadata": {},
   "outputs": [
    {
     "data": {
      "text/html": [
       "<div>\n",
       "<style scoped>\n",
       "    .dataframe tbody tr th:only-of-type {\n",
       "        vertical-align: middle;\n",
       "    }\n",
       "\n",
       "    .dataframe tbody tr th {\n",
       "        vertical-align: top;\n",
       "    }\n",
       "\n",
       "    .dataframe thead th {\n",
       "        text-align: right;\n",
       "    }\n",
       "</style>\n",
       "<table border=\"1\" class=\"dataframe\">\n",
       "  <thead>\n",
       "    <tr style=\"text-align: right;\">\n",
       "      <th></th>\n",
       "      <th>Years of Experience</th>\n",
       "      <th>Salary</th>\n",
       "    </tr>\n",
       "  </thead>\n",
       "  <tbody>\n",
       "    <tr>\n",
       "      <th>0</th>\n",
       "      <td>12</td>\n",
       "      <td>138968.320088</td>\n",
       "    </tr>\n",
       "    <tr>\n",
       "      <th>1</th>\n",
       "      <td>15</td>\n",
       "      <td>167233.405003</td>\n",
       "    </tr>\n",
       "    <tr>\n",
       "      <th>2</th>\n",
       "      <td>17</td>\n",
       "      <td>186076.794947</td>\n",
       "    </tr>\n",
       "    <tr>\n",
       "      <th>3</th>\n",
       "      <td>18</td>\n",
       "      <td>195498.489918</td>\n",
       "    </tr>\n",
       "    <tr>\n",
       "      <th>4</th>\n",
       "      <td>21</td>\n",
       "      <td>223763.574833</td>\n",
       "    </tr>\n",
       "    <tr>\n",
       "      <th>5</th>\n",
       "      <td>23</td>\n",
       "      <td>242606.964776</td>\n",
       "    </tr>\n",
       "    <tr>\n",
       "      <th>6</th>\n",
       "      <td>26</td>\n",
       "      <td>270872.049691</td>\n",
       "    </tr>\n",
       "  </tbody>\n",
       "</table>\n",
       "</div>"
      ],
      "text/plain": [
       "   Years of Experience         Salary\n",
       "0                   12  138968.320088\n",
       "1                   15  167233.405003\n",
       "2                   17  186076.794947\n",
       "3                   18  195498.489918\n",
       "4                   21  223763.574833\n",
       "5                   23  242606.964776\n",
       "6                   26  270872.049691"
      ]
     },
     "execution_count": 26,
     "metadata": {},
     "output_type": "execute_result"
    }
   ],
   "source": [
    "# Seven senior hire years of experiences\n",
    "years_experience = [12, 15, 17, 18, 21, 23, 26]\n",
    "\n",
    "# Linear equation used to predict salaries\n",
    "salary_predict = lambda x: salary_linear_regression.coef_ * x + salary_linear_regression.intercept_\n",
    "\n",
    "# Create dataframe to visualize values\n",
    "prediction_df = pd.DataFrame({'Years of Experience' : years_experience, 'Salary' : salary_predict(years_experience)})\n",
    "prediction_df"
   ]
  },
  {
   "cell_type": "markdown",
   "id": "f5bffc36-195e-4277-9bb6-e63d02865554",
   "metadata": {
    "tags": []
   },
   "source": [
    "### Model Visualization With Predictions"
   ]
  },
  {
   "cell_type": "markdown",
   "id": "d7623aa4-9a8b-4db8-bd3b-d3b45e365549",
   "metadata": {},
   "source": [
    "Now that we have predicted the salaries for the seven senior hires, we can combine the data from the original data from the database with the predictions derived from the machine learning model. We must concatenate the two dataframes into one in order to use as the data for creating the data visualization."
   ]
  },
  {
   "cell_type": "code",
   "execution_count": 27,
   "id": "9b2871ec-8a39-4179-a368-8636cde84542",
   "metadata": {},
   "outputs": [
    {
     "data": {
      "text/html": [
       "<div>\n",
       "<style scoped>\n",
       "    .dataframe tbody tr th:only-of-type {\n",
       "        vertical-align: middle;\n",
       "    }\n",
       "\n",
       "    .dataframe tbody tr th {\n",
       "        vertical-align: top;\n",
       "    }\n",
       "\n",
       "    .dataframe thead th {\n",
       "        text-align: right;\n",
       "    }\n",
       "</style>\n",
       "<table border=\"1\" class=\"dataframe\">\n",
       "  <thead>\n",
       "    <tr style=\"text-align: right;\">\n",
       "      <th></th>\n",
       "      <th>Years of Experience</th>\n",
       "      <th>Salary</th>\n",
       "    </tr>\n",
       "  </thead>\n",
       "  <tbody>\n",
       "    <tr>\n",
       "      <th>1</th>\n",
       "      <td>1.1</td>\n",
       "      <td>39343.000000</td>\n",
       "    </tr>\n",
       "    <tr>\n",
       "      <th>2</th>\n",
       "      <td>1.3</td>\n",
       "      <td>46205.000000</td>\n",
       "    </tr>\n",
       "    <tr>\n",
       "      <th>3</th>\n",
       "      <td>1.5</td>\n",
       "      <td>37731.000000</td>\n",
       "    </tr>\n",
       "    <tr>\n",
       "      <th>4</th>\n",
       "      <td>2.0</td>\n",
       "      <td>43525.000000</td>\n",
       "    </tr>\n",
       "    <tr>\n",
       "      <th>5</th>\n",
       "      <td>2.2</td>\n",
       "      <td>39891.000000</td>\n",
       "    </tr>\n",
       "    <tr>\n",
       "      <th>6</th>\n",
       "      <td>2.9</td>\n",
       "      <td>56642.000000</td>\n",
       "    </tr>\n",
       "    <tr>\n",
       "      <th>7</th>\n",
       "      <td>3.0</td>\n",
       "      <td>60150.000000</td>\n",
       "    </tr>\n",
       "    <tr>\n",
       "      <th>8</th>\n",
       "      <td>3.2</td>\n",
       "      <td>54445.000000</td>\n",
       "    </tr>\n",
       "    <tr>\n",
       "      <th>9</th>\n",
       "      <td>3.2</td>\n",
       "      <td>64445.000000</td>\n",
       "    </tr>\n",
       "    <tr>\n",
       "      <th>10</th>\n",
       "      <td>3.7</td>\n",
       "      <td>57189.000000</td>\n",
       "    </tr>\n",
       "    <tr>\n",
       "      <th>11</th>\n",
       "      <td>3.9</td>\n",
       "      <td>63218.000000</td>\n",
       "    </tr>\n",
       "    <tr>\n",
       "      <th>12</th>\n",
       "      <td>4.0</td>\n",
       "      <td>55794.000000</td>\n",
       "    </tr>\n",
       "    <tr>\n",
       "      <th>13</th>\n",
       "      <td>4.0</td>\n",
       "      <td>56957.000000</td>\n",
       "    </tr>\n",
       "    <tr>\n",
       "      <th>14</th>\n",
       "      <td>4.1</td>\n",
       "      <td>57081.000000</td>\n",
       "    </tr>\n",
       "    <tr>\n",
       "      <th>15</th>\n",
       "      <td>4.5</td>\n",
       "      <td>61111.000000</td>\n",
       "    </tr>\n",
       "    <tr>\n",
       "      <th>16</th>\n",
       "      <td>4.9</td>\n",
       "      <td>67938.000000</td>\n",
       "    </tr>\n",
       "    <tr>\n",
       "      <th>17</th>\n",
       "      <td>5.1</td>\n",
       "      <td>66029.000000</td>\n",
       "    </tr>\n",
       "    <tr>\n",
       "      <th>18</th>\n",
       "      <td>5.3</td>\n",
       "      <td>83088.000000</td>\n",
       "    </tr>\n",
       "    <tr>\n",
       "      <th>19</th>\n",
       "      <td>5.9</td>\n",
       "      <td>81363.000000</td>\n",
       "    </tr>\n",
       "    <tr>\n",
       "      <th>20</th>\n",
       "      <td>6.0</td>\n",
       "      <td>93940.000000</td>\n",
       "    </tr>\n",
       "    <tr>\n",
       "      <th>21</th>\n",
       "      <td>6.8</td>\n",
       "      <td>91738.000000</td>\n",
       "    </tr>\n",
       "    <tr>\n",
       "      <th>22</th>\n",
       "      <td>7.1</td>\n",
       "      <td>98273.000000</td>\n",
       "    </tr>\n",
       "    <tr>\n",
       "      <th>23</th>\n",
       "      <td>7.9</td>\n",
       "      <td>101302.000000</td>\n",
       "    </tr>\n",
       "    <tr>\n",
       "      <th>24</th>\n",
       "      <td>8.2</td>\n",
       "      <td>113812.000000</td>\n",
       "    </tr>\n",
       "    <tr>\n",
       "      <th>25</th>\n",
       "      <td>8.7</td>\n",
       "      <td>109431.000000</td>\n",
       "    </tr>\n",
       "    <tr>\n",
       "      <th>26</th>\n",
       "      <td>9.0</td>\n",
       "      <td>105582.000000</td>\n",
       "    </tr>\n",
       "    <tr>\n",
       "      <th>27</th>\n",
       "      <td>9.5</td>\n",
       "      <td>116969.000000</td>\n",
       "    </tr>\n",
       "    <tr>\n",
       "      <th>28</th>\n",
       "      <td>9.6</td>\n",
       "      <td>112635.000000</td>\n",
       "    </tr>\n",
       "    <tr>\n",
       "      <th>29</th>\n",
       "      <td>10.3</td>\n",
       "      <td>122391.000000</td>\n",
       "    </tr>\n",
       "    <tr>\n",
       "      <th>30</th>\n",
       "      <td>10.5</td>\n",
       "      <td>121872.000000</td>\n",
       "    </tr>\n",
       "    <tr>\n",
       "      <th>0</th>\n",
       "      <td>12.0</td>\n",
       "      <td>138968.320088</td>\n",
       "    </tr>\n",
       "    <tr>\n",
       "      <th>1</th>\n",
       "      <td>15.0</td>\n",
       "      <td>167233.405003</td>\n",
       "    </tr>\n",
       "    <tr>\n",
       "      <th>2</th>\n",
       "      <td>17.0</td>\n",
       "      <td>186076.794947</td>\n",
       "    </tr>\n",
       "    <tr>\n",
       "      <th>3</th>\n",
       "      <td>18.0</td>\n",
       "      <td>195498.489918</td>\n",
       "    </tr>\n",
       "    <tr>\n",
       "      <th>4</th>\n",
       "      <td>21.0</td>\n",
       "      <td>223763.574833</td>\n",
       "    </tr>\n",
       "    <tr>\n",
       "      <th>5</th>\n",
       "      <td>23.0</td>\n",
       "      <td>242606.964776</td>\n",
       "    </tr>\n",
       "    <tr>\n",
       "      <th>6</th>\n",
       "      <td>26.0</td>\n",
       "      <td>270872.049691</td>\n",
       "    </tr>\n",
       "  </tbody>\n",
       "</table>\n",
       "</div>"
      ],
      "text/plain": [
       "    Years of Experience         Salary\n",
       "1                   1.1   39343.000000\n",
       "2                   1.3   46205.000000\n",
       "3                   1.5   37731.000000\n",
       "4                   2.0   43525.000000\n",
       "5                   2.2   39891.000000\n",
       "6                   2.9   56642.000000\n",
       "7                   3.0   60150.000000\n",
       "8                   3.2   54445.000000\n",
       "9                   3.2   64445.000000\n",
       "10                  3.7   57189.000000\n",
       "11                  3.9   63218.000000\n",
       "12                  4.0   55794.000000\n",
       "13                  4.0   56957.000000\n",
       "14                  4.1   57081.000000\n",
       "15                  4.5   61111.000000\n",
       "16                  4.9   67938.000000\n",
       "17                  5.1   66029.000000\n",
       "18                  5.3   83088.000000\n",
       "19                  5.9   81363.000000\n",
       "20                  6.0   93940.000000\n",
       "21                  6.8   91738.000000\n",
       "22                  7.1   98273.000000\n",
       "23                  7.9  101302.000000\n",
       "24                  8.2  113812.000000\n",
       "25                  8.7  109431.000000\n",
       "26                  9.0  105582.000000\n",
       "27                  9.5  116969.000000\n",
       "28                  9.6  112635.000000\n",
       "29                 10.3  122391.000000\n",
       "30                 10.5  121872.000000\n",
       "0                  12.0  138968.320088\n",
       "1                  15.0  167233.405003\n",
       "2                  17.0  186076.794947\n",
       "3                  18.0  195498.489918\n",
       "4                  21.0  223763.574833\n",
       "5                  23.0  242606.964776\n",
       "6                  26.0  270872.049691"
      ]
     },
     "execution_count": 27,
     "metadata": {},
     "output_type": "execute_result"
    }
   ],
   "source": [
    "# Combine original data and predicted data to use for visualization\n",
    "salary_full_df = pd.concat([salary_df, prediction_df])\n",
    "salary_full_df"
   ]
  },
  {
   "cell_type": "code",
   "execution_count": 28,
   "id": "fbcd372d-bae9-455d-8dca-1c3fa59d4265",
   "metadata": {},
   "outputs": [
    {
     "data": {
      "image/png": "[encoded data removed]",
      "text/plain": [
       "<Figure size 1080x360 with 1 Axes>"
      ]
     },
     "metadata": {},
     "output_type": "display_data"
    }
   ],
   "source": [
    "# Set up scatter plot for all data\n",
    "sns.set_style('whitegrid')\n",
    "fig, axes = plt.subplots()\n",
    "fig.set_size_inches(15, 5)\n",
    "axes = sns.scatterplot(data=salary_full_df, x='Years of Experience', y='Salary', hue='Salary', palette='flare', legend=False)    \n",
    "axes.set_xlim(min(salary_full_df['Years of Experience'].values - 1), max(salary_full_df['Years of Experience'].values + 1))  # scale x-axis \n",
    "axes.set_title('Relationship Between Salary and Years of Experience With Predictions')\n",
    "\n",
    "# Visualize line to see the accuracy of prediction points\n",
    "x = np.array([min(salary_full_df['Years of Experience'].values), max(salary_full_df['Years of Experience'].values)]) # creates an array from -2021\n",
    "y = salary_predict(x)\n",
    "line = plt.plot(x, y, 'purple');"
   ]
  }
 ],
 "metadata": {
  "kernelspec": {
   "display_name": "Python 3 (ipykernel)",
   "language": "python",
   "name": "python3"
  },
  "language_info": {
   "codemirror_mode": {
    "name": "ipython",
    "version": 3
   },
   "file_extension": ".py",
   "mimetype": "text/x-python",
   "name": "python",
   "nbconvert_exporter": "python",
   "pygments_lexer": "ipython3",
   "version": "3.9.7"
  }
 },
 "nbformat": 4,
 "nbformat_minor": 5
}
